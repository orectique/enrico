{
 "cells": [
  {
   "cell_type": "code",
   "execution_count": 1,
   "metadata": {},
   "outputs": [],
   "source": [
    "from rake_nltk import Rake"
   ]
  },
  {
   "cell_type": "code",
   "execution_count": 2,
   "metadata": {},
   "outputs": [],
   "source": [
    "r = Rake()"
   ]
  },
  {
   "cell_type": "code",
   "execution_count": 3,
   "metadata": {},
   "outputs": [],
   "source": [
    "text = 'Goodnight, I say to my beloved, as the fragments of my consciousness prepare to amalgamate themselves with the creatures that call the inky depths of night home. I know not what the morrow brings, but here I am, unable to choose between a night of blissful sleep and an illusory day where I get to dally with her.'"
   ]
  },
  {
   "cell_type": "code",
   "execution_count": 5,
   "metadata": {},
   "outputs": [],
   "source": [
    "r.extract_keywords_from_text(text)\n",
    "\n",
    "strOut = 'goodnight'\n",
    "keys = r.get_ranked_phrases()[:5]\n",
    "\n",
    "for key in keys:\n",
    "    strOut += ', ' + key"
   ]
  },
  {
   "cell_type": "code",
   "execution_count": 6,
   "metadata": {},
   "outputs": [
    {
     "data": {
      "text/plain": [
       "'goodnight, morrow brings, inky depths, illusory day, consciousness prepare, blissful sleep'"
      ]
     },
     "execution_count": 6,
     "metadata": {},
     "output_type": "execute_result"
    }
   ],
   "source": [
    "strOut"
   ]
  },
  {
   "cell_type": "code",
   "execution_count": null,
   "metadata": {},
   "outputs": [],
   "source": []
  }
 ],
 "metadata": {
  "kernelspec": {
   "display_name": "Python 3.10.4 ('muse')",
   "language": "python",
   "name": "python3"
  },
  "language_info": {
   "codemirror_mode": {
    "name": "ipython",
    "version": 3
   },
   "file_extension": ".py",
   "mimetype": "text/x-python",
   "name": "python",
   "nbconvert_exporter": "python",
   "pygments_lexer": "ipython3",
   "version": "3.10.4"
  },
  "orig_nbformat": 4,
  "vscode": {
   "interpreter": {
    "hash": "3b4bd1bffec050f7a5f0ff1e294e6fa5e633fe9c04c44701b09ed25e1e0bd712"
   }
  }
 },
 "nbformat": 4,
 "nbformat_minor": 2
}
