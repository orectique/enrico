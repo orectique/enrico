{
 "cells": [
  {
   "cell_type": "code",
   "execution_count": 1,
   "metadata": {},
   "outputs": [],
   "source": [
    "from colorthief import ColorThief\n",
    "import io\n",
    "\n",
    "from PIL import Image"
   ]
  },
  {
   "cell_type": "code",
   "execution_count": 4,
   "metadata": {},
   "outputs": [],
   "source": [
    "img = Image.open('../Assets/placeholder.jpg', 'r')"
   ]
  },
  {
   "cell_type": "code",
   "execution_count": 7,
   "metadata": {},
   "outputs": [],
   "source": [
    "ct = ColorThief('../Assets/placeholder.jpg')"
   ]
  },
  {
   "cell_type": "code",
   "execution_count": 24,
   "metadata": {},
   "outputs": [],
   "source": [
    "colors = ct.get_palette(color_count=6)"
   ]
  },
  {
   "cell_type": "code",
   "execution_count": 27,
   "metadata": {},
   "outputs": [
    {
     "name": "stdout",
     "output_type": "stream",
     "text": [
      "Lightest color:  (250, 194, 163)\n",
      "Darkest color:  (79, 40, 37)\n"
     ]
    }
   ],
   "source": [
    "light = 0\n",
    "dark = float('inf')\n",
    "\n",
    "for i in colors:\n",
    "    if sum(i) < dark:\n",
    "        dark = sum(i)\n",
    "        dark_color = i\n",
    "    if sum(i) > light:\n",
    "        light = sum(i)\n",
    "        light_color = i\n",
    "\n",
    "print('Lightest color: ', light_color)\n",
    "print('Darkest color: ', dark_color)"
   ]
  },
  {
   "cell_type": "code",
   "execution_count": 2,
   "metadata": {},
   "outputs": [],
   "source": [
    "from urllib.request import urlopen"
   ]
  },
  {
   "cell_type": "code",
   "execution_count": 3,
   "metadata": {},
   "outputs": [],
   "source": [
    "url = 'https://unsplash.com/photos/Yg_sNKOiXvY/download?ixid=MnwzNjQxNjR8MHwxfHNlYXJjaHwxfHxtb3Jyb3clMjBicmluZ3MlMkMlMjBpbmt5JTIwZGVwdGhzJTJDJTIwaWxsdXNvcnklMjBkYXklMkMlMjBjb25zY2lvdXNuZXNzJTIwcHJlcGFyZSUyQyUyMGJsaXNzZnVsJTIwc2xlZXAlMkMlMjBnb29kbmlnaHR8ZW58MHx8fHwxNjYzMTcwNzEx'"
   ]
  },
  {
   "cell_type": "code",
   "execution_count": 4,
   "metadata": {},
   "outputs": [],
   "source": [
    "ct = ColorThief(urlopen(url))"
   ]
  },
  {
   "cell_type": "code",
   "execution_count": 5,
   "metadata": {},
   "outputs": [
    {
     "data": {
      "text/plain": [
       "[(58, 59, 53),\n",
       " (202, 205, 203),\n",
       " (154, 183, 161),\n",
       " (141, 137, 129),\n",
       " (97, 132, 93),\n",
       " (158, 161, 166)]"
      ]
     },
     "execution_count": 5,
     "metadata": {},
     "output_type": "execute_result"
    }
   ],
   "source": [
    "ct.get_palette(color_count=6)"
   ]
  },
  {
   "cell_type": "code",
   "execution_count": null,
   "metadata": {},
   "outputs": [],
   "source": []
  }
 ],
 "metadata": {
  "kernelspec": {
   "display_name": "Python 3.10.4 ('muse')",
   "language": "python",
   "name": "python3"
  },
  "language_info": {
   "codemirror_mode": {
    "name": "ipython",
    "version": 3
   },
   "file_extension": ".py",
   "mimetype": "text/x-python",
   "name": "python",
   "nbconvert_exporter": "python",
   "pygments_lexer": "ipython3",
   "version": "3.10.4"
  },
  "orig_nbformat": 4,
  "vscode": {
   "interpreter": {
    "hash": "3b4bd1bffec050f7a5f0ff1e294e6fa5e633fe9c04c44701b09ed25e1e0bd712"
   }
  }
 },
 "nbformat": 4,
 "nbformat_minor": 2
}
