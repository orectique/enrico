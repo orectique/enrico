{
 "cells": [
  {
   "cell_type": "code",
   "execution_count": 1,
   "metadata": {},
   "outputs": [],
   "source": [
    "from colorthief import ColorThief\n",
    "import io\n",
    "\n",
    "from PIL import Image"
   ]
  },
  {
   "cell_type": "code",
   "execution_count": 2,
   "metadata": {},
   "outputs": [],
   "source": [
    "img = Image.open('../Assets/placeholder.jpg', 'r')"
   ]
  },
  {
   "cell_type": "code",
   "execution_count": 3,
   "metadata": {},
   "outputs": [],
   "source": [
    "ct = ColorThief('../Assets/placeholder.jpg')"
   ]
  },
  {
   "cell_type": "code",
   "execution_count": 4,
   "metadata": {},
   "outputs": [],
   "source": [
    "colors = ct.get_palette(color_count=6)"
   ]
  },
  {
   "cell_type": "code",
   "execution_count": 5,
   "metadata": {},
   "outputs": [
    {
     "name": "stdout",
     "output_type": "stream",
     "text": [
      "Lightest color:  (250, 194, 163)\n",
      "Darkest color:  (79, 40, 37)\n"
     ]
    }
   ],
   "source": [
    "light = 0\n",
    "dark = float('inf')\n",
    "\n",
    "for i in colors:\n",
    "    if sum(i) < dark:\n",
    "        dark = sum(i)\n",
    "        dark_color = i\n",
    "    if sum(i) > light:\n",
    "        light = sum(i)\n",
    "        light_color = i\n",
    "\n",
    "print('Lightest color: ', light_color)\n",
    "print('Darkest color: ', dark_color)"
   ]
  },
  {
   "cell_type": "code",
   "execution_count": 6,
   "metadata": {},
   "outputs": [],
   "source": [
    "from colorsys import rgb_to_hsv, hsv_to_rgb\n",
    "\n",
    "def complementary(r, g, b):\n",
    "   \"\"\"returns RGB components of complementary color\"\"\"\n",
    "   hsv = rgb_to_hsv(r, g, b)\n",
    "   return hsv_to_rgb((hsv[0] + 0.5) % 1, hsv[1], hsv[2])"
   ]
  },
  {
   "cell_type": "code",
   "execution_count": 8,
   "metadata": {},
   "outputs": [],
   "source": [
    "comp = complementary(light_color[0], light_color[1], light_color[2])"
   ]
  },
  {
   "cell_type": "code",
   "execution_count": 17,
   "metadata": {},
   "outputs": [],
   "source": [
    "comp = tuple([int(i) for i in comp])"
   ]
  },
  {
   "cell_type": "code",
   "execution_count": 18,
   "metadata": {},
   "outputs": [
    {
     "data": {
      "text/plain": [
       "(163, 218, 250)"
      ]
     },
     "execution_count": 18,
     "metadata": {},
     "output_type": "execute_result"
    }
   ],
   "source": [
    "comp"
   ]
  },
  {
   "cell_type": "code",
   "execution_count": null,
   "metadata": {},
   "outputs": [],
   "source": []
  }
 ],
 "metadata": {
  "kernelspec": {
   "display_name": "Python 3.10.4 ('muse')",
   "language": "python",
   "name": "python3"
  },
  "language_info": {
   "codemirror_mode": {
    "name": "ipython",
    "version": 3
   },
   "file_extension": ".py",
   "mimetype": "text/x-python",
   "name": "python",
   "nbconvert_exporter": "python",
   "pygments_lexer": "ipython3",
   "version": "3.10.4"
  },
  "orig_nbformat": 4,
  "vscode": {
   "interpreter": {
    "hash": "3b4bd1bffec050f7a5f0ff1e294e6fa5e633fe9c04c44701b09ed25e1e0bd712"
   }
  }
 },
 "nbformat": 4,
 "nbformat_minor": 2
}
